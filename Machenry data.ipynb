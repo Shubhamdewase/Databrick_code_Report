{
 "cells": [
  {
   "cell_type": "code",
   "execution_count": 0,
   "metadata": {
    "application/vnd.databricks.v1+cell": {
     "cellMetadata": {
      "byteLimit": 2048000,
      "rowLimit": 10000
     },
     "inputWidgets": {},
     "nuid": "85f35858-dca6-44ea-b796-139e6062b164",
     "showTitle": false,
     "tableResultSettingsMap": {},
     "title": ""
    }
   },
   "outputs": [],
   "source": [
    " Create or replace table DB_Reporting.machnery_data( \n",
    "Customer_Name string comment' Name of Customer',\n",
    "Market_Segment string comment' Market Segment of Customer',\n",
    "Nation_Name string comment' Nation of Customer',\n",
    "Region_Name string comment' Region of Customer',\n",
    "Order_Status string comment' Status of Order',\n",
    "Total_Price decimal (18,5) comment' Total Price of Order',\n",
    "Order_Date timestamp comment' Date of Order',\n",
    "Order_Priority string comment' Priority of Order',\n",
    "Clerk_\tSTRING comment'Clerk',\n",
    "Ship_Priority\tinteger\t comment'Priority of ship',\n",
    "Linen_Umber\tinteger comment 'Umber line',\n",
    "Quant_Ity\tDECIMAL(18,5) comment 'Quantity',\n",
    "Exten_Dedprice\tDECIMAL(18,5) comment'Extend Dedprice',\n",
    "Disco_Unt\tDECIMAL(18,5)\tcomment 'Discount Unit',\n",
    "Retur_Nflag\tSTRING comment 'Return Flag',\n",
    "Lines_Tatus\tSTRING comment 'Line Status',\n",
    "Shipd_Ate\tdate comment ' Date of Ship',\n",
    "Commi_Tdate\tdate comment 'Date of Commmite',\n",
    "Recei_Ptdate\tdate comment 'Date of Receipt',\n",
    "Shipi_Nstruct\tSTRING comment'Ship Instruct',\n",
    "Shipm_Ode\tSTRING comment ' Ship Mode',\n",
    "Comme_Nt2\tSTRING comment ' i Comment',\n",
    "Partk_Ey\tlong\tcomment' Part key',\n",
    "Brand_\tSTRING\tcomment 'Brand',\n",
    "Conta_Iner\tSTRING comment 'Container',\n",
    "Retai_Lprice\tDECIMAL(18,5)comment'Retail Price',\n",
    "Comme_Nt\tSTRING comment 'p comment',\n",
    "Part_Key\tlong comment 'ps Part key',\n",
    "Supp_Key\tlong comment ' Supply key',\n",
    "Avai_Lqty\tinteger comment ' Available Quantity',\n",
    "Supp_Lycost\tDECIMAL(18,5)comment 'Supply Cost',\n",
    "Comm_Ent\tSTRING comment ' ps Comment',\n",
    "Suppk_Ey\tlong \tcomment 'Supplier Supply key',\n",
    "Addre_Ss\tSTRING comment ' Supplier Address',\n",
    "Natio_Nkey\tlong comment'Supplier Natiion key',\n",
    "Phone_\tSTRING comment'Supplier Phone',\n",
    "Acctb_Al\tDECIMAL(18,5) comment 'Supplier Acct Bal',\n",
    "Comme_Nts\tstring comment 'S Comment'\n",
    "\n",
    "\n",
    "\n",
    ")"
   ]
  }
 ],
 "metadata": {
  "application/vnd.databricks.v1+notebook": {
   "computePreferences": null,
   "dashboards": [],
   "environmentMetadata": {
    "base_environment": "",
    "environment_version": "2"
   },
   "language": "sql",
   "notebookMetadata": {
    "pythonIndentUnit": 4
   },
   "notebookName": "Machenry data",
   "widgets": {}
  },
  "language_info": {
   "name": "sql"
  }
 },
 "nbformat": 4,
 "nbformat_minor": 0
}
