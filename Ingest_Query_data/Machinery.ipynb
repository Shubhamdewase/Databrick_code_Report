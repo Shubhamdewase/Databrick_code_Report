{
 "cells": [
  {
   "cell_type": "code",
   "execution_count": 0,
   "metadata": {
    "application/vnd.databricks.v1+cell": {
     "cellMetadata": {
      "byteLimit": 2048000,
      "rowLimit": 10000
     },
     "inputWidgets": {},
     "nuid": "8e7e8a9c-cef3-4efd-a3e4-90d9fafea0bf",
     "showTitle": false,
     "tableResultSettingsMap": {},
     "title": ""
    }
   },
   "outputs": [],
   "source": [
    "insert into DB_Reporting.machinery_Data\n",
    "select\n",
    "    customer.c_name as Customer_Name,\n",
    "    customer.c_mktsegment as Market_Segment,\n",
    "    nation.n_name as Nation_Name,\n",
    "    region.r_name as Region_Name,\n",
    "    orders.o_orderstatus as Order_Status,\n",
    "    orders.o_totalprice as Total_Price,\n",
    "    orders.o_orderdate as Order_Date,\n",
    "    orders.o_orderpriority as Order_Priority,\n",
    "    orders.o_clerk as Clerk_,\n",
    "    orders.o_shippriority as Ship_Priority,\n",
    "    lineitem.l_linenumber as Linen_Umber,\n",
    "    lineitem.l_quantity as Quant_Ity,\n",
    "    lineitem.l_extendedprice as Exten_Dedprice,\n",
    "    lineitem.l_discount as Disco_Unt,\n",
    "    lineitem.l_returnflag as Retur_Nflag,\n",
    "    lineitem.l_linestatus as Lines_Tatus,\n",
    "    lineitem.l_shipdate as Shipd_Ate,\n",
    "    lineitem.l_commitdate as Commi_Tdate,\n",
    "    lineitem.l_receiptdate as Recei_Ptdate,\n",
    "    lineitem.l_shipinstruct as Shipi_Nstruct,\n",
    "    lineitem.l_shipmode as Shipm_Ode,\n",
    "    lineitem.l_comment as Comme_Nt,\n",
    "    part.p_partkey as Partk_Ey,\n",
    "    part.p_brand as Brand_,\n",
    "    part.p_container as Conta_Iner,\n",
    "    part.p_retailprice as Retai_Lprice,\n",
    "    part.p_comment as Comme_Nt,\n",
    "    partsupp.ps_partkey as Part_Key,\n",
    "    partsupp.ps_suppkey as Supp_Key,\n",
    "    partsupp.ps_availqty as Avai_Lqty,\n",
    "    partsupp.ps_supplycost as Supp_Lycost,\n",
    "    partsupp.ps_comment as Comm_Ent,\n",
    "    supplier.s_suppkey as Suppk_Ey,\n",
    "    supplier.s_address as Addre_Ss,\n",
    "    supplier.s_nationkey as Natio_Nkey,\n",
    "    supplier.s_phone as Phone_,\n",
    "    supplier.s_acctbal as Acctb_Al,\n",
    "    supplier.s_comment as Comme_Nt\n",
    "from samples.tpch.customer\n",
    "join samples.tpch.nation on samples.tpch.customer.c_nationkey = samples.tpch.nation.n_nationkey\n",
    "join samples.tpch.region on samples.tpch.nation.n_regionkey = samples.tpch.region.r_regionkey\n",
    "join samples.tpch.orders on samples.tpch.customer.c_custkey = samples.tpch.orders.o_custkey\n",
    "join samples.tpch.lineitem on samples.tpch.orders.o_orderkey = samples.tpch.lineitem.l_orderkey\n",
    "join samples.tpch.part on samples.tpch.lineitem.l_partkey = samples.tpch.part.p_partkey\n",
    "join samples.tpch.partsupp on samples.tpch.lineitem.l_partkey = samples.tpch.partsupp.ps_partkey\n",
    "join samples.tpch.supplier on samples.tpch.lineitem.l_suppkey = samples.tpch.supplier.s_suppkey\n",
    "where upper(customer.c_mktsegment) = 'MACHINERY'"
   ]
  }
 ],
 "metadata": {
  "application/vnd.databricks.v1+notebook": {
   "computePreferences": null,
   "dashboards": [],
   "environmentMetadata": {
    "base_environment": "",
    "environment_version": "2"
   },
   "language": "sql",
   "notebookMetadata": {
    "pythonIndentUnit": 4
   },
   "notebookName": "Machinery",
   "widgets": {}
  },
  "language_info": {
   "name": "sql"
  }
 },
 "nbformat": 4,
 "nbformat_minor": 0
}
