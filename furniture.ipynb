{
 "cells": [
  {
   "cell_type": "code",
   "execution_count": 0,
   "metadata": {
    "application/vnd.databricks.v1+cell": {
     "cellMetadata": {
      "byteLimit": 2048000,
      "rowLimit": 10000
     },
     "inputWidgets": {},
     "nuid": "4d69d43c-4de2-40b1-9700-de1ac26912b0",
     "showTitle": false,
     "tableResultSettingsMap": {},
     "title": ""
    }
   },
   "outputs": [],
   "source": [
    "Create or replace table DB_Reporting.furnituredata(\n",
    "  \n",
    "Customer_Name string comment' Name of Customer',\n",
    "Market_Segment string comment' Market Segment of Customer',\n",
    "Nation_Name string comment' Nation of Customer',\n",
    "Region_Name string comment' Region of Customer',\n",
    "Order_Status string comment' Status of Order',\n",
    "Total_Price decimal (18,5) comment' Total Price of Order',\n",
    "Order_Date timestamp comment' Date of Order',\n",
    "Order_Priority string comment' Priority of Order',\n",
    "Clerk_\tSTRING comment'Clerk',\n",
    "Ship_Priority\tinteger\t comment'Priority of ship',\n",
    "Linen_Umber\tinteger comment 'Umber line',\n",
    "Quant_Ity\tDECIMAL(18,5) comment 'Quantity',\n",
    "Exten_Dedprice\tDECIMAL(18,5) comment'Extend Dedprice',\n",
    "Disco_Unt\tDECIMAL(18,5)\tcomment 'Discount Unit',\n",
    "Retur_Nflag\tSTRING comment 'Return Flag',\n",
    "Lines_Tatus\tSTRING comment 'Line Status',\n",
    "Shipd_Ate\tdate comment ' Date of Ship',\n",
    "Commi_Tdate\tdate comment 'Date of Commmite',\n",
    "Recei_Ptdate\tdate comment 'Date of Receipt',\n",
    "Shipi_Nstruct\tSTRING comment'Ship Instruct',\n",
    "Shipm_Ode\tSTRING comment ' Ship Mode',\n",
    "Comme_Nt2\tSTRING comment ' i Comment',\n",
    "Partk_Ey\tlong\tcomment' Part key',\n",
    "Brand_\tSTRING\tcomment 'Brand',\n",
    "Conta_Iner\tSTRING comment 'Container',\n",
    "Retai_Lprice\tDECIMAL(18,5)comment'Retail Price',\n",
    "Comme_Nt\tSTRING comment 'p comment',\n",
    "Part_Key\tlong comment 'ps Part key',\n",
    "Supp_Key\tlong comment ' Supply key',\n",
    "Avai_Lqty\tinteger comment ' Available Quantity',\n",
    "Supp_Lycost\tDECIMAL(18,5)comment 'Supply Cost',\n",
    "Comm_Ent\tSTRING comment ' ps Comment',\n",
    "Suppk_Ey\tlong \tcomment 'Supplier Supply key',\n",
    "Addre_Ss\tSTRING comment ' Supplier Address',\n",
    "Natio_Nkey\tlong comment'Supplier Natiion key',\n",
    "Phone_\tSTRING comment'Supplier Phone',\n",
    "Acctb_Al\tDECIMAL(18,5) comment 'Supplier Acct Bal',\n",
    "Comme_Nts\tstring comment 'S Comment'\n",
    "\n",
    "\n",
    "\n",
    ")"
   ]
  },
  {
   "cell_type": "code",
   "execution_count": 0,
   "metadata": {
    "application/vnd.databricks.v1+cell": {
     "cellMetadata": {
      "byteLimit": 2048000,
      "rowLimit": 10000
     },
     "inputWidgets": {},
     "nuid": "78e601a4-aa82-49de-8c59-d0d26074c8e7",
     "showTitle": false,
     "tableResultSettingsMap": {},
     "title": ""
    }
   },
   "outputs": [],
   "source": [
    "USe database DB_Reporting;"
   ]
  },
  {
   "cell_type": "code",
   "execution_count": 0,
   "metadata": {
    "application/vnd.databricks.v1+cell": {
     "cellMetadata": {
      "byteLimit": 2048000,
      "rowLimit": 10000
     },
     "inputWidgets": {},
     "nuid": "4139ede8-8e88-49d2-b855-f70c81d0190e",
     "showTitle": false,
     "tableResultSettingsMap": {},
     "title": ""
    }
   },
   "outputs": [],
   "source": [
    "describe database DB_Reporting;"
   ]
  },
  {
   "cell_type": "code",
   "execution_count": 0,
   "metadata": {
    "application/vnd.databricks.v1+cell": {
     "cellMetadata": {
      "byteLimit": 2048000,
      "rowLimit": 10000
     },
     "inputWidgets": {},
     "nuid": "b24c13ed-1676-4e03-af91-b3bfe19c327f",
     "showTitle": false,
     "tableResultSettingsMap": {},
     "title": ""
    }
   },
   "outputs": [],
   "source": [
    "-- Drop all tables in the database\n",
    "DROP TABLE IF EXISTS DB_Reporting.table1;\n",
    "DROP TABLE IF EXISTS DB_Reporting.table2;\n",
    "DROP TABLE IF EXISTS DB_Reporting.table3;\n",
    "DROP TABLE IF EXISTS DB_Reporting.table4;\n",
    "DROP TABLE IF EXISTS DB_Reporting.table5;\n",
    "DROP TABLE IF EXISTS DB_Reporting.table6;\n",
    "DROP TABLE IF EXISTS DB_Reporting.table7;\n",
    "\n",
    "-- Drop the database with CASCADE option\n",
    "DROP DATABASE DB_Reporting CASCADE;"
   ]
  }
 ],
 "metadata": {
  "application/vnd.databricks.v1+notebook": {
   "computePreferences": null,
   "dashboards": [],
   "environmentMetadata": {
    "base_environment": "",
    "environment_version": "2"
   },
   "language": "sql",
   "notebookMetadata": {
    "pythonIndentUnit": 4
   },
   "notebookName": "furniture",
   "widgets": {}
  },
  "language_info": {
   "name": "sql"
  }
 },
 "nbformat": 4,
 "nbformat_minor": 0
}
