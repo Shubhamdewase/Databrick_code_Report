{
 "cells": [
  {
   "cell_type": "code",
   "execution_count": 0,
   "metadata": {
    "application/vnd.databricks.v1+cell": {
     "cellMetadata": {
      "byteLimit": 2048000,
      "rowLimit": 10000
     },
     "inputWidgets": {},
     "nuid": "1c7326a7-722a-42c4-8683-1b1b62add904",
     "showTitle": false,
     "tableResultSettingsMap": {},
     "title": ""
    }
   },
   "outputs": [],
   "source": [
    "\n",
    "Create database if not exists DB_Reporting;\n",
    "Create schema if not exists DB_Reporting"
   ]
  },
  {
   "cell_type": "code",
   "execution_count": 0,
   "metadata": {
    "application/vnd.databricks.v1+cell": {
     "cellMetadata": {
      "byteLimit": 2048000,
      "rowLimit": 10000
     },
     "inputWidgets": {},
     "nuid": "425c0bf8-093b-4977-b9f4-9151f19160ab",
     "showTitle": false,
     "tableResultSettingsMap": {},
     "title": ""
    }
   },
   "outputs": [],
   "source": [
    "Use DB_Reporting;"
   ]
  },
  {
   "cell_type": "code",
   "execution_count": 0,
   "metadata": {
    "application/vnd.databricks.v1+cell": {
     "cellMetadata": {
      "byteLimit": 2048000,
      "rowLimit": 10000
     },
     "inputWidgets": {},
     "nuid": "5ee9b258-5074-4f9e-b220-770c9592842b",
     "showTitle": false,
     "tableResultSettingsMap": {},
     "title": ""
    }
   },
   "outputs": [],
   "source": [
    "\n",
    "Create or replace table DB_Reporting.household_data(\n",
    "Customer_Name string comment' Name of Customer',\n",
    "Market_Segment string comment' Market Segment of Customer',\n",
    "Nation_Name string comment' Nation of Customer',\n",
    "Region_Name string comment' Region of Customer',\n",
    "Order_Status string comment' Status of Order',\n",
    "Total_Price decimal (18,5) comment' Total Price of Order',\n",
    "Order_Date timestamp comment' Date of Order',\n",
    "Order_Priority string comment' Priority of Order',\n",
    "Clerk_\tSTRING comment'Clerk',\n",
    "Ship_Priority\tinteger\t comment'Priority of ship',\n",
    "Linen_Umber\tinteger comment 'Umber line',\n",
    "Quant_Ity\tDECIMAL(18,5) comment 'Quantity',\n",
    "Exten_Dedprice\tDECIMAL(18,5) comment'Extend Dedprice',\n",
    "Disco_Unt\tDECIMAL(18,5)\tcomment 'Discount Unit',\n",
    "Retur_Nflag\tSTRING comment 'Return Flag',\n",
    "Lines_Tatus\tSTRING comment 'Line Status',\n",
    "Shipd_Ate\tdate comment ' Date of Ship',\n",
    "Commi_Tdate\tdate comment 'Date of Commmite',\n",
    "Recei_Ptdate\tdate comment 'Date of Receipt',\n",
    "Shipi_Nstruct\tSTRING comment'Ship Instruct',\n",
    "Shipm_Ode\tSTRING comment ' Ship Mode',\n",
    "Comme_Nt1\tSTRING comment ' Comment',\n",
    "Partk_Ey\tlong\tcomment' Part key',\n",
    "Brand_\tSTRING\tcomment 'Brand',\n",
    "Conta_Iner\tSTRING comment 'Container',\n",
    "Retai_Lprice\tDECIMAL(18,5)comment'Retail Price',\n",
    "Comme_Nt\tSTRING comment 'comment',\n",
    "Part_Key\tlong comment 'ps Part key',\n",
    "Supp_Key\tlong comment ' Supply key',\n",
    "Avai_Lqty\tinteger comment ' Available Quantity',\n",
    "Supp_Lycost\tDECIMAL(18,5)comment 'Supply Cost',\n",
    "Comm_Ent\tSTRING comment ' Comment',\n",
    "Suppk_Ey\tlong \tcomment 'Supplier Supply key',\n",
    "Addre_Ss\tSTRING comment ' Supplier Address',\n",
    "Natio_Nkey\tlong comment'Supplier Natiion key',\n",
    "Phone_\tSTRING comment'Supplier Phone',\n",
    "Acctb_Al\tDECIMAL(18,5) comment 'Supplier Acct Bal',\n",
    "Comme_Nt2 \tstring comment 'Comment'\n",
    ")"
   ]
  },
  {
   "cell_type": "code",
   "execution_count": 0,
   "metadata": {
    "application/vnd.databricks.v1+cell": {
     "cellMetadata": {
      "byteLimit": 2048000,
      "rowLimit": 10000
     },
     "inputWidgets": {},
     "nuid": "3b895ab2-6dc9-4264-9463-829da5c4f02f",
     "showTitle": false,
     "tableResultSettingsMap": {},
     "title": ""
    }
   },
   "outputs": [],
   "source": [
    "describe table DB_Reporting.household_data;"
   ]
  }
 ],
 "metadata": {
  "application/vnd.databricks.v1+notebook": {
   "computePreferences": null,
   "dashboards": [],
   "environmentMetadata": {
    "base_environment": "",
    "environment_version": "2"
   },
   "language": "sql",
   "notebookMetadata": {
    "pythonIndentUnit": 4
   },
   "notebookName": "HouseHold",
   "widgets": {}
  },
  "language_info": {
   "name": "sql"
  }
 },
 "nbformat": 4,
 "nbformat_minor": 0
}
